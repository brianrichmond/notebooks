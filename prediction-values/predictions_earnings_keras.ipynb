{
 "cells": [
  {
   "cell_type": "markdown",
   "metadata": {},
   "source": [
    "# Game Earning Prediction Using Keras"
   ]
  },
  {
   "cell_type": "markdown",
   "metadata": {},
   "source": [
    "### Source"
   ]
  },
  {
   "cell_type": "markdown",
   "metadata": {},
   "source": [
    "• https://www.linkedin.com/learning/building-deep-learning-applications-with-keras-2-0"
   ]
  },
  {
   "cell_type": "markdown",
   "metadata": {},
   "source": [
    "### Libraries"
   ]
  },
  {
   "cell_type": "code",
   "execution_count": 1,
   "metadata": {},
   "outputs": [],
   "source": [
    "import pandas as pd\n",
    "from sklearn.preprocessing import MinMaxScaler\n",
    "\n",
    "# from tensorflow import keras\n",
    "# from tensorflow.keras.models import Sequential\n",
    "# from tensorflow.keras.layers import *\n"
   ]
  },
  {
   "cell_type": "code",
   "execution_count": 4,
   "metadata": {},
   "outputs": [],
   "source": [
    "import keras\n",
    "from keras.models import Sequential\n",
    "from keras.layers import *\n",
    "from keras.models import load_model\n",
    "\n",
    "from keras import backend as K"
   ]
  },
  {
   "cell_type": "code",
   "execution_count": 5,
   "metadata": {},
   "outputs": [],
   "source": [
    "training_data_df = pd.read_csv(\"/Users/brianrichmond/Documents/Data/Keras/Ex Files_Geitgey Course/03/sales_data_training_scaled.csv\")\n",
    "\n",
    "X = training_data_df.drop('total_earnings', axis=1).values\n",
    "Y = training_data_df[['total_earnings']].values"
   ]
  },
  {
   "cell_type": "code",
   "execution_count": 6,
   "metadata": {},
   "outputs": [],
   "source": [
    "# Define the model\n",
    "model = Sequential()\n",
    "model.add(Dense(50, input_dim=9, activation='relu'))\n",
    "model.add(Dense(100, activation='relu'))\n",
    "model.add(Dense(50, activation='relu'))\n",
    "model.add(Dense(1, activation='linear'))\n",
    "model.compile(loss=\"mean_squared_error\", optimizer=\"adam\")"
   ]
  },
  {
   "cell_type": "markdown",
   "metadata": {},
   "source": [
    "### Process the data"
   ]
  },
  {
   "cell_type": "code",
   "execution_count": 7,
   "metadata": {},
   "outputs": [
    {
     "name": "stdout",
     "output_type": "stream",
     "text": [
      "Note: total_earnings values were scaled by multiplying by 0.0000036968 and adding -0.115913\n"
     ]
    },
    {
     "name": "stderr",
     "output_type": "stream",
     "text": [
      "/anaconda3/lib/python3.6/site-packages/sklearn/preprocessing/data.py:323: DataConversionWarning: Data with input dtype int64, float64 were all converted to float64 by MinMaxScaler.\n",
      "  return self.partial_fit(X, y)\n"
     ]
    }
   ],
   "source": [
    "from sklearn.preprocessing import MinMaxScaler\n",
    "\n",
    "# Load training data set from CSV file\n",
    "training_data_df = pd.read_csv(\"/Users/brianrichmond/Documents/Data/Keras/Ex Files_Geitgey Course/03/sales_data_training.csv\")\n",
    "\n",
    "# Load testing data set from CSV file\n",
    "test_data_df = pd.read_csv(\"/Users/brianrichmond/Documents/Data/Keras/Ex Files_Geitgey Course/03/sales_data_test.csv\")\n",
    "\n",
    "# Data needs to be scaled to a small range like 0 to 1 for the neural\n",
    "# network to work well.\n",
    "scaler = MinMaxScaler(feature_range=(0, 1))\n",
    "\n",
    "# Scale both the training inputs and outputs\n",
    "scaled_training = scaler.fit_transform(training_data_df)\n",
    "scaled_testing = scaler.transform(test_data_df)\n",
    "\n",
    "# Print out the adjustment that the scaler applied to the total_earnings column of data\n",
    "print(\"Note: total_earnings values were scaled by multiplying by {:.10f} and adding {:.6f}\".format(scaler.scale_[8], scaler.min_[8]))\n",
    "\n",
    "# Create new pandas DataFrame objects from the scaled data\n",
    "scaled_training_df = pd.DataFrame(scaled_training, columns=training_data_df.columns.values)\n",
    "scaled_testing_df = pd.DataFrame(scaled_testing, columns=test_data_df.columns.values)\n",
    "\n",
    "# Save scaled data dataframes to new CSV files\n",
    "scaled_training_df.to_csv(\"/Users/brianrichmond/Documents/Data/Keras/Ex Files_Geitgey Course/03/sales_data_training_scaled.csv\", index=False)\n",
    "scaled_testing_df.to_csv(\"/Users/brianrichmond/Documents/Data/Keras/Ex Files_Geitgey Course/03/sales_data_testing_scaled.csv\", index=False)"
   ]
  },
  {
   "cell_type": "markdown",
   "metadata": {},
   "source": [
    "### Train Model"
   ]
  },
  {
   "cell_type": "code",
   "execution_count": 8,
   "metadata": {},
   "outputs": [
    {
     "name": "stdout",
     "output_type": "stream",
     "text": [
      "Epoch 1/50\n",
      " - 0s - loss: 0.0163\n",
      "Epoch 2/50\n",
      " - 0s - loss: 0.0013\n",
      "Epoch 3/50\n",
      " - 0s - loss: 5.4001e-04\n",
      "Epoch 4/50\n",
      " - 0s - loss: 3.3628e-04\n",
      "Epoch 5/50\n",
      " - 0s - loss: 2.2207e-04\n",
      "Epoch 6/50\n",
      " - 0s - loss: 1.6025e-04\n",
      "Epoch 7/50\n",
      " - 0s - loss: 1.1117e-04\n",
      "Epoch 8/50\n",
      " - 0s - loss: 1.0186e-04\n",
      "Epoch 9/50\n",
      " - 0s - loss: 8.5561e-05\n",
      "Epoch 10/50\n",
      " - 0s - loss: 7.2347e-05\n",
      "Epoch 11/50\n",
      " - 0s - loss: 6.2375e-05\n",
      "Epoch 12/50\n",
      " - 0s - loss: 5.4824e-05\n",
      "Epoch 13/50\n",
      " - 0s - loss: 1.0063e-04\n",
      "Epoch 14/50\n",
      " - 0s - loss: 5.9273e-05\n",
      "Epoch 15/50\n",
      " - 0s - loss: 4.3797e-05\n",
      "Epoch 16/50\n",
      " - 0s - loss: 4.7738e-05\n",
      "Epoch 17/50\n",
      " - 0s - loss: 3.5285e-05\n",
      "Epoch 18/50\n",
      " - 0s - loss: 3.2028e-05\n",
      "Epoch 19/50\n",
      " - 0s - loss: 2.9335e-05\n",
      "Epoch 20/50\n",
      " - 0s - loss: 3.1731e-05\n",
      "Epoch 21/50\n",
      " - 0s - loss: 3.3327e-05\n",
      "Epoch 22/50\n",
      " - 0s - loss: 2.9679e-05\n",
      "Epoch 23/50\n",
      " - 0s - loss: 3.3917e-05\n",
      "Epoch 24/50\n",
      " - 0s - loss: 2.6403e-05\n",
      "Epoch 25/50\n",
      " - 0s - loss: 2.9738e-05\n",
      "Epoch 26/50\n",
      " - 0s - loss: 2.8569e-05\n",
      "Epoch 27/50\n",
      " - 0s - loss: 2.7407e-05\n",
      "Epoch 28/50\n",
      " - 0s - loss: 2.9846e-05\n",
      "Epoch 29/50\n",
      " - 0s - loss: 6.3612e-05\n",
      "Epoch 30/50\n",
      " - 0s - loss: 4.7890e-05\n",
      "Epoch 31/50\n",
      " - 0s - loss: 3.9785e-05\n",
      "Epoch 32/50\n",
      " - 0s - loss: 3.0461e-05\n",
      "Epoch 33/50\n",
      " - 0s - loss: 4.8155e-05\n",
      "Epoch 34/50\n",
      " - 0s - loss: 2.6640e-05\n",
      "Epoch 35/50\n",
      " - 0s - loss: 2.3269e-05\n",
      "Epoch 36/50\n",
      " - 0s - loss: 1.9534e-05\n",
      "Epoch 37/50\n",
      " - 0s - loss: 1.8000e-05\n",
      "Epoch 38/50\n",
      " - 0s - loss: 1.9122e-05\n",
      "Epoch 39/50\n",
      " - 0s - loss: 2.7389e-05\n",
      "Epoch 40/50\n",
      " - 0s - loss: 2.7704e-05\n",
      "Epoch 41/50\n",
      " - 0s - loss: 4.4181e-05\n",
      "Epoch 42/50\n",
      " - 0s - loss: 3.4354e-05\n",
      "Epoch 43/50\n",
      " - 0s - loss: 2.3830e-05\n",
      "Epoch 44/50\n",
      " - 0s - loss: 2.7050e-05\n",
      "Epoch 45/50\n",
      " - 0s - loss: 2.3910e-05\n",
      "Epoch 46/50\n",
      " - 0s - loss: 4.3700e-05\n",
      "Epoch 47/50\n",
      " - 0s - loss: 2.2254e-05\n",
      "Epoch 48/50\n",
      " - 0s - loss: 2.7459e-05\n",
      "Epoch 49/50\n",
      " - 0s - loss: 8.1345e-05\n",
      "Epoch 50/50\n",
      " - 0s - loss: 1.0087e-04\n"
     ]
    },
    {
     "data": {
      "text/plain": [
       "<keras.callbacks.History at 0x1a32c1ccc0>"
      ]
     },
     "execution_count": 8,
     "metadata": {},
     "output_type": "execute_result"
    }
   ],
   "source": [
    "# Train the model\n",
    "model.fit(\n",
    "    X,\n",
    "    Y,\n",
    "    epochs=50,\n",
    "    shuffle=True,\n",
    "    verbose=2\n",
    ")"
   ]
  },
  {
   "cell_type": "code",
   "execution_count": 9,
   "metadata": {},
   "outputs": [],
   "source": [
    "# Load the separate test data set\n",
    "test_data_df = pd.read_csv(\"/Users/brianrichmond/Documents/Data/Keras/Ex Files_Geitgey Course/03/sales_data_test_scaled.csv\")\n"
   ]
  },
  {
   "cell_type": "code",
   "execution_count": 10,
   "metadata": {},
   "outputs": [
    {
     "name": "stdout",
     "output_type": "stream",
     "text": [
      "The mean squared error (MSE) for the test data set is: 0.00012825161102227866\n"
     ]
    }
   ],
   "source": [
    "X_test = test_data_df.drop('total_earnings', axis=1).values\n",
    "Y_test = test_data_df[['total_earnings']].values\n",
    "\n",
    "test_error_rate = model.evaluate(X_test, Y_test, verbose = 0)\n",
    "print(\"The mean squared error (MSE) for the test data set is: {}\".format(test_error_rate))"
   ]
  },
  {
   "cell_type": "markdown",
   "metadata": {},
   "source": [
    "### Use Model to Make Prediction"
   ]
  },
  {
   "cell_type": "code",
   "execution_count": 11,
   "metadata": {},
   "outputs": [],
   "source": [
    "# Load the data we make to use to make a prediction\n",
    "X = pd.read_csv(\"/Users/brianrichmond/Documents/Data/Keras/Ex Files_Geitgey Course/04/proposed_new_product.csv\").values\n",
    "\n",
    "# Make a prediction with the neural network\n",
    "prediction = model.predict(X)\n"
   ]
  },
  {
   "cell_type": "code",
   "execution_count": 12,
   "metadata": {},
   "outputs": [
    {
     "data": {
      "text/plain": [
       "array([[0.8396621]], dtype=float32)"
      ]
     },
     "execution_count": 12,
     "metadata": {},
     "output_type": "execute_result"
    }
   ],
   "source": [
    "prediction"
   ]
  },
  {
   "cell_type": "code",
   "execution_count": 13,
   "metadata": {},
   "outputs": [
    {
     "name": "stdout",
     "output_type": "stream",
     "text": [
      "Earnings Prediction for Proposed Product - $258483.57364280583\n"
     ]
    }
   ],
   "source": [
    "# Grab just the first element of the first prediction (since that's the only have one)\n",
    "prediction = prediction[0][0]\n",
    "\n",
    "# Re-scale the data from the 0-to-1 range back to dollars\n",
    "# These constants are from when the data was originally scaled down to the 0-to-1 range\n",
    "prediction = prediction + 0.1159\n",
    "prediction = prediction / 0.0000036968\n",
    "\n",
    "print(\"Earnings Prediction for Proposed Product - ${}\".format(prediction))\n"
   ]
  },
  {
   "cell_type": "markdown",
   "metadata": {},
   "source": [
    "### Save the Model"
   ]
  },
  {
   "cell_type": "code",
   "execution_count": 14,
   "metadata": {},
   "outputs": [],
   "source": [
    "# Save the model to disk\n",
    "\n",
    "model.save(\"/Users/brianrichmond/Documents/Data/Keras/trained_model.h5\")\n",
    "print(\"Model saved to disk.\")"
   ]
  },
  {
   "cell_type": "markdown",
   "metadata": {},
   "source": [
    "### Load the Model, Make New Prediction"
   ]
  },
  {
   "cell_type": "code",
   "execution_count": 17,
   "metadata": {},
   "outputs": [],
   "source": [
    "model = load_model(\"/Users/brianrichmond/Documents/Data/Keras/trained_model.h5\")\n"
   ]
  },
  {
   "cell_type": "code",
   "execution_count": 19,
   "metadata": {},
   "outputs": [
    {
     "name": "stdout",
     "output_type": "stream",
     "text": [
      "Earnings Prediction for Proposed Product - $258483.57364280583\n"
     ]
    }
   ],
   "source": [
    "X = pd.read_csv(\"/Users/brianrichmond/Documents/Data/Keras/Ex Files_Geitgey Course/04/proposed_new_product.csv\").values\n",
    "prediction = model.predict(X)\n",
    "\n",
    "# Grab just the first element of the first prediction (since we only have one)\n",
    "prediction = prediction[0][0]\n",
    "\n",
    "# Re-scale the data from the 0-to-1 range back to dollars\n",
    "# These constants are from when the data was originally scaled down to the 0-to-1 range\n",
    "prediction = prediction + 0.1159\n",
    "prediction = prediction / 0.0000036968\n",
    "\n",
    "print(\"Earnings Prediction for Proposed Product - ${}\".format(prediction))\n"
   ]
  },
  {
   "cell_type": "code",
   "execution_count": null,
   "metadata": {},
   "outputs": [],
   "source": []
  }
 ],
 "metadata": {
  "kernelspec": {
   "display_name": "Python 3",
   "language": "python",
   "name": "python3"
  },
  "language_info": {
   "codemirror_mode": {
    "name": "ipython",
    "version": 3
   },
   "file_extension": ".py",
   "mimetype": "text/x-python",
   "name": "python",
   "nbconvert_exporter": "python",
   "pygments_lexer": "ipython3",
   "version": "3.6.7"
  }
 },
 "nbformat": 4,
 "nbformat_minor": 2
}
